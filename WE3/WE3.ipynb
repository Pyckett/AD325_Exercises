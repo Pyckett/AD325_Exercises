{
 "cells": [
  {
   "cell_type": "markdown",
   "id": "3a9959f2",
   "metadata": {},
   "source": [
    "code step by step problem:"
   ]
  },
  {
   "cell_type": "code",
   "execution_count": null,
   "id": "0abf76b0",
   "metadata": {},
   "outputs": [
    {
     "name": "stdout",
     "output_type": "stream",
     "text": [
      "10\n"
     ]
    }
   ],
   "source": [
    "def binary_search(a, target, low=0, high=None):\n",
    "    if high is None:\n",
    "        high = len(a) - 1 # set high to last index\n",
    "    if low > high:\n",
    "        return -1 # if number not found\n",
    "    mid = (low + high) // 2 # declare mid point\n",
    "    if a[mid] == target:\n",
    "        return mid\n",
    "    elif target < a[mid]: # if target is less than mid point\n",
    "        return binary_search(a, target, low, mid - 1)\n",
    "    else: # if target greater than mid point\n",
    "        return binary_search(a, target, mid + 1, high)\n",
    "    \n",
    "\n",
    "print(binary_search([-4, 2, 7, 10, 15, 20, 22, 25, 30, 36, 42, 50, 56, 68, 85, 92, 103], 42))"
   ]
  },
  {
   "cell_type": "markdown",
   "id": "9ab831d5",
   "metadata": {},
   "source": [
    "data lemur problem:"
   ]
  },
  {
   "cell_type": "code",
   "execution_count": 4,
   "id": "9265a650",
   "metadata": {},
   "outputs": [
    {
     "data": {
      "text/plain": [
       "[2, 0, 0, 0, 0]"
      ]
     },
     "execution_count": 4,
     "metadata": {},
     "output_type": "execute_result"
    }
   ],
   "source": [
    "def another_one(digits):\n",
    "    # Start from the last digit\n",
    "    i = len(digits) - 1\n",
    "    while i >= 0 and digits[i] == 9:\n",
    "        # Change all 9s to 0\n",
    "        digits[i] = 0\n",
    "        i -= 1\n",
    "\n",
    "    # If we found a non-9 digit, just add 1\n",
    "    if i >= 0:\n",
    "        digits[i] += 1\n",
    "        return digits\n",
    "    else:\n",
    "        # All digits were 9, so add a leading 1\n",
    "        return [1] + digits\n",
    "    \n",
    "another_one([1, 9, 9, 9, 9])"
   ]
  },
  {
   "cell_type": "markdown",
   "id": "037d1936",
   "metadata": {},
   "source": [
    "leet code problem:"
   ]
  },
  {
   "cell_type": "code",
   "execution_count": 7,
   "id": "1946dadc",
   "metadata": {},
   "outputs": [
    {
     "ename": "TypeError",
     "evalue": "Solution.insertionSortList() missing 1 required positional argument: 'head'",
     "output_type": "error",
     "traceback": [
      "\u001b[1;31m---------------------------------------------------------------------------\u001b[0m",
      "\u001b[1;31mTypeError\u001b[0m                                 Traceback (most recent call last)",
      "Cell \u001b[1;32mIn[7], line 1\u001b[0m\n\u001b[1;32m----> 1\u001b[0m \u001b[38;5;28;01mclass\u001b[39;00m\u001b[38;5;250m \u001b[39m\u001b[38;5;21;01mSolution\u001b[39;00m(\u001b[38;5;28mobject\u001b[39m):\n\u001b[0;32m      2\u001b[0m     \u001b[38;5;28;01mdef\u001b[39;00m\u001b[38;5;250m \u001b[39m\u001b[38;5;21minsertionSortList\u001b[39m(\u001b[38;5;28mself\u001b[39m, head):\n\u001b[0;32m      3\u001b[0m         \u001b[38;5;28;01mif\u001b[39;00m \u001b[38;5;129;01mnot\u001b[39;00m head \u001b[38;5;129;01mor\u001b[39;00m \u001b[38;5;129;01mnot\u001b[39;00m head\u001b[38;5;241m.\u001b[39mnext:\n",
      "Cell \u001b[1;32mIn[7], line 21\u001b[0m, in \u001b[0;36mSolution\u001b[1;34m()\u001b[0m\n\u001b[0;32m     18\u001b[0m             pre\u001b[38;5;241m.\u001b[39mnext \u001b[38;5;241m=\u001b[39m tmp\n\u001b[0;32m     19\u001b[0m     \u001b[38;5;28;01mreturn\u001b[39;00m dummy\u001b[38;5;241m.\u001b[39mnext\n\u001b[1;32m---> 21\u001b[0m insertionSortList([\u001b[38;5;241m-\u001b[39m\u001b[38;5;241m1\u001b[39m,\u001b[38;5;241m5\u001b[39m,\u001b[38;5;241m3\u001b[39m,\u001b[38;5;241m4\u001b[39m,\u001b[38;5;241m0\u001b[39m])\n",
      "\u001b[1;31mTypeError\u001b[0m: Solution.insertionSortList() missing 1 required positional argument: 'head'"
     ]
    }
   ],
   "source": [
    "class Solution(object):\n",
    "    def insertionSortList(self, head):\n",
    "        if not head or not head.next:\n",
    "            return head\n",
    "        dummy = ListNode(-float('inf'))\n",
    "        dummy.next = head\n",
    "        cur = head\n",
    "        while cur and cur.next:\n",
    "            if cur.next.val >= cur.val: # checks if the current node is in order\n",
    "                cur = cur.next # is so continue\n",
    "            else:\n",
    "                tmp = cur.next\n",
    "                cur.next = tmp.next\n",
    "                pre = dummy\n",
    "                while pre.next.val < tmp.val: # find correct spot if node not in order\n",
    "                    pre = pre.next\n",
    "                tmp.next = pre.next\n",
    "                pre.next = tmp\n",
    "        return dummy.next\n",
    "    \n",
    "    insertionSortList([-1,5,3,4,0])"
   ]
  }
 ],
 "metadata": {
  "kernelspec": {
   "display_name": "base",
   "language": "python",
   "name": "python3"
  },
  "language_info": {
   "codemirror_mode": {
    "name": "ipython",
    "version": 3
   },
   "file_extension": ".py",
   "mimetype": "text/x-python",
   "name": "python",
   "nbconvert_exporter": "python",
   "pygments_lexer": "ipython3",
   "version": "3.13.5"
  }
 },
 "nbformat": 4,
 "nbformat_minor": 5
}
