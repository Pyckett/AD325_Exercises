{
 "cells": [
  {
   "cell_type": "markdown",
   "id": "b11e0ad1",
   "metadata": {},
   "source": [
    "code step by step problem 1:"
   ]
  },
  {
   "cell_type": "code",
   "execution_count": 2,
   "id": "e35cc89f",
   "metadata": {},
   "outputs": [
    {
     "name": "stdout",
     "output_type": "stream",
     "text": [
      "4\n"
     ]
    }
   ],
   "source": [
    "numbers = [1, 2, 3, 4, 5, 1, 2, 3, 6, 7, 8, 9, 10, 1]\n",
    "\n",
    "def count_duplicates(numbers):\n",
    "    count = 0\n",
    "    seen = set()\n",
    "    for number in numbers:\n",
    "        if number in seen:\n",
    "            count += 1\n",
    "        else:\n",
    "            seen.add(number)\n",
    "    return count\n",
    "\n",
    "print(count_duplicates(numbers))"
   ]
  }
 ],
 "metadata": {
  "kernelspec": {
   "display_name": "base",
   "language": "python",
   "name": "python3"
  },
  "language_info": {
   "codemirror_mode": {
    "name": "ipython",
    "version": 3
   },
   "file_extension": ".py",
   "mimetype": "text/x-python",
   "name": "python",
   "nbconvert_exporter": "python",
   "pygments_lexer": "ipython3",
   "version": "3.13.5"
  }
 },
 "nbformat": 4,
 "nbformat_minor": 5
}
