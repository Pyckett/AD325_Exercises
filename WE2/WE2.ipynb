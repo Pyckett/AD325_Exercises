{
 "cells": [
  {
   "cell_type": "markdown",
   "id": "b11e0ad1",
   "metadata": {},
   "source": [
    "code step by step problem 1:"
   ]
  },
  {
   "cell_type": "code",
   "execution_count": 34,
   "id": "e35cc89f",
   "metadata": {},
   "outputs": [
    {
     "name": "stdout",
     "output_type": "stream",
     "text": [
      "4\n"
     ]
    }
   ],
   "source": [
    "numbers = [1, 2, 3, 4, 5, 1, 2, 3, 6, 7, 8, 9, 10, 1]\n",
    "\n",
    "def count_duplicates(numbers):\n",
    "    count = 0\n",
    "    seen = set() # create a set for checking numbers\n",
    "    for number in numbers: # iterate through numbers list\n",
    "        if number in seen: # checking if that number is also in seen list indicating duplicate in the number list\n",
    "            count += 1 # if a duplicate is spotted then increase duplicate count + 1\n",
    "        else: # if no duplicates yet check next number\n",
    "            seen.add(number)\n",
    "    return count\n",
    "\n",
    "print(count_duplicates(numbers))"
   ]
  },
  {
   "cell_type": "markdown",
   "id": "c99c45a0",
   "metadata": {},
   "source": [
    "code step by step problem 2:"
   ]
  },
  {
   "cell_type": "code",
   "execution_count": 33,
   "id": "f54974ec",
   "metadata": {},
   "outputs": [
    {
     "name": "stdout",
     "output_type": "stream",
     "text": [
      "False\n"
     ]
    }
   ],
   "source": [
    "numbers = [5, 3, 4, 2, 1]\n",
    "\n",
    "def is_stack_sorted(numbers):\n",
    "    restoration_list = list()\n",
    "    if len(numbers) <= 1: # check to see if numbers list empty or only one number\n",
    "        return True\n",
    "    sorted_boolean = True\n",
    "    compare_number = numbers.pop() # first number\n",
    "    while len(numbers) > 0:\n",
    "        next_number = numbers.pop() # next number to compare against\n",
    "        if compare_number > next_number: # comparison to test sorting\n",
    "            sorted_boolean = False # test result false, stack not sorted\n",
    "        restoration_list.append(compare_number) # banking numbers for restoration\n",
    "        compare_number = next_number # next number to check\n",
    "    restoration_list.append(compare_number) \n",
    "    while len(restoration_list) > 0:\n",
    "        numbers.append(restoration_list.pop()) # restoring the numbers list from restoration list bank\n",
    "    return sorted_boolean\n",
    "\n",
    "print(is_stack_sorted(numbers))"
   ]
  },
  {
   "cell_type": "markdown",
   "id": "20c7017b",
   "metadata": {},
   "source": [
    "code step by step problem 3:"
   ]
  },
  {
   "cell_type": "code",
   "execution_count": 32,
   "id": "2b268667",
   "metadata": {},
   "outputs": [
    {
     "data": {
      "text/plain": [
       "5"
      ]
     },
     "execution_count": 32,
     "metadata": {},
     "output_type": "execute_result"
    }
   ],
   "source": [
    "numbers = [5, 2, 4, 17, 55, 4, 3, 26, 18, 2, 17]\n",
    "\n",
    "def median(numbers): # partially from class code repository insertion sort\n",
    "    for i in range(1, len(numbers)):\n",
    "        j = i\n",
    "\n",
    "        # Insert numbers[i] into sorted part \n",
    "        # stopping once numbers[i] in correct position\n",
    "        while j > 0 and numbers[j] < numbers[j - 1]:\n",
    "            # Swap numbers[j] and numbers[j - 1]\n",
    "            temp = numbers[j]\n",
    "            numbers[j] = numbers[j - 1]\n",
    "            numbers[j - 1] = temp\n",
    "            j -= 1\n",
    "    middle = len(numbers) // 2 # define middle of sorted list\n",
    "    if len(numbers) % 2 == 0: # check for list being even\n",
    "        median_value = (numbers[middle - 1] + numbers[middle] / 2) # if even median is average of two middle numbers\n",
    "    else:\n",
    "        median_value = numbers[middle] # if odd median is middle\n",
    "    return median_value\n",
    "\n",
    "median(numbers)"
   ]
  },
  {
   "cell_type": "markdown",
   "id": "bf03dc6b",
   "metadata": {},
   "source": [
    "data lemur problem:"
   ]
  },
  {
   "cell_type": "code",
   "execution_count": 31,
   "id": "f963ba2c",
   "metadata": {},
   "outputs": [
    {
     "data": {
      "text/plain": [
       "[1, 3]"
      ]
     },
     "execution_count": 31,
     "metadata": {},
     "output_type": "execute_result"
    }
   ],
   "source": [
    "a = [1, 2, 3, 4, 5]\n",
    "b = [0, 1, 3, 7]\n",
    "\n",
    "def intersection(a, b):\n",
    "  intersection_list = [] # list to be returned\n",
    "  for value in a: # iterate through a\n",
    "    if value in b: # compare if the number in a is a number in b\n",
    "      intersection_list.append(value) # if true then add to return list\n",
    "  return intersection_list\n",
    "\n",
    "intersection(a, b)"
   ]
  },
  {
   "cell_type": "markdown",
   "id": "1e015104",
   "metadata": {},
   "source": [
    "leet code problem:"
   ]
  },
  {
   "cell_type": "code",
   "execution_count": 30,
   "id": "29c25901",
   "metadata": {},
   "outputs": [
    {
     "name": "stdout",
     "output_type": "stream",
     "text": [
      "1\n",
      "1\n",
      "False\n"
     ]
    }
   ],
   "source": [
    "class MyQueue(object):\n",
    "    def __init__(self): #initialize our two stacks\n",
    "        self.s1 = []\n",
    "        self.s2 = []\n",
    "\n",
    "    def push(self, x):\n",
    "        while self.s1: \n",
    "            self.s2.append(self.s1.pop()) # populate our stack 2 with stack 1 numbers\n",
    "        self.s1.append(x) # stack 1 holds only x\n",
    "        while self.s2:\n",
    "            self.s1.append(self.s2.pop()) # add the numbers back to stack 1 behind x\n",
    "\n",
    "    def pop(self):\n",
    "        return self.s1.pop()\n",
    "\n",
    "    def peek(self):\n",
    "        return self.s1[-1] # the last number in stack 1 is the top\n",
    "\n",
    "    def empty(self):\n",
    "        return not self.s1\n",
    "\n",
    "NewQueue = MyQueue()\n",
    "NewQueue.push(1)\n",
    "NewQueue.push(2)\n",
    "print(NewQueue.peek())\n",
    "print(NewQueue.pop())\n",
    "print(NewQueue.empty())"
   ]
  }
 ],
 "metadata": {
  "kernelspec": {
   "display_name": "base",
   "language": "python",
   "name": "python3"
  },
  "language_info": {
   "codemirror_mode": {
    "name": "ipython",
    "version": 3
   },
   "file_extension": ".py",
   "mimetype": "text/x-python",
   "name": "python",
   "nbconvert_exporter": "python",
   "pygments_lexer": "ipython3",
   "version": "3.13.5"
  }
 },
 "nbformat": 4,
 "nbformat_minor": 5
}
