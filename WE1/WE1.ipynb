{
 "cells": [
  {
   "cell_type": "markdown",
   "id": "289d5df0",
   "metadata": {},
   "source": [
    "code step by step problem :"
   ]
  },
  {
   "cell_type": "code",
   "execution_count": 36,
   "id": "4938801c",
   "metadata": {},
   "outputs": [
    {
     "name": "stdout",
     "output_type": "stream",
     "text": [
      "hello world\n"
     ]
    }
   ],
   "source": [
    "print(\"hello world\")"
   ]
  },
  {
   "cell_type": "markdown",
   "id": "ec028ba1",
   "metadata": {},
   "source": [
    "data lemur problem:"
   ]
  },
  {
   "cell_type": "code",
   "execution_count": 37,
   "id": "9cb9ccfa",
   "metadata": {},
   "outputs": [
    {
     "name": "stdout",
     "output_type": "stream",
     "text": [
      "120\n"
     ]
    }
   ],
   "source": [
    "factorial(5) # input\n",
    "\n",
    "def factorial(n):\n",
    "  x = 1 # base case\n",
    "  for i in range(1, n+1): # go from 1 to n\n",
    "    x *= i # update answer incrementally\n",
    "  print(x)\n",
    "  return x\n",
    "  \n",
    "  "
   ]
  }
 ],
 "metadata": {
  "kernelspec": {
   "display_name": "base",
   "language": "python",
   "name": "python3"
  },
  "language_info": {
   "codemirror_mode": {
    "name": "ipython",
    "version": 3
   },
   "file_extension": ".py",
   "mimetype": "text/x-python",
   "name": "python",
   "nbconvert_exporter": "python",
   "pygments_lexer": "ipython3",
   "version": "3.13.5"
  }
 },
 "nbformat": 4,
 "nbformat_minor": 5
}
