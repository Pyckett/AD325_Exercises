{
 "cells": [
  {
   "cell_type": "markdown",
   "id": "c66d072c",
   "metadata": {},
   "source": [
    "code step by step bank account class:"
   ]
  },
  {
   "cell_type": "code",
   "execution_count": 2,
   "id": "4938801c",
   "metadata": {},
   "outputs": [],
   "source": [
    "class BankAccount:\n",
    "    def __init__(self, name, balance = 0.00):\n",
    "        self.name = name\n",
    "        self.balance = balance\n",
    "\n",
    "    def deposit(self, ammount):\n",
    "        if ammount <= 0:\n",
    "            return\n",
    "        self.balance += ammount\n",
    "\n",
    "    def withdraw(self, ammount):\n",
    "        if ammount < 0:\n",
    "            return\n",
    "        if ammount > self.balance:\n",
    "            return\n",
    "        self.balance -= ammount\n"
   ]
  },
  {
   "cell_type": "markdown",
   "id": "f8eb4ffe",
   "metadata": {},
   "source": [
    "code step by step bank account class plus transaction fee:"
   ]
  },
  {
   "cell_type": "code",
   "execution_count": 3,
   "id": "7786fcac",
   "metadata": {},
   "outputs": [],
   "source": [
    "class BankAccount:\n",
    "    def __init__(self, name, balance = 0.00, transaction_fee = 0.00):\n",
    "        self._name = name\n",
    "        self._balance = balance\n",
    "        self._transaction_fee = 0.00\n",
    "        self.transaction_fee = transaction_fee\n",
    "\n",
    "    @property\n",
    "    def name(self):\n",
    "        return self._name\n",
    "\n",
    "    @property\n",
    "    def balance(self):\n",
    "        return self._balance\n",
    "\n",
    "    @property\n",
    "    def transaction_fee(self):\n",
    "        return self._transaction_fee\n",
    "\n",
    "    @transaction_fee.setter\n",
    "    def transaction_fee(self, fee):\n",
    "        if fee >= 0:\n",
    "            self._transaction_fee = fee\n",
    "\n",
    "    def deposit(self, amount):\n",
    "        if amount > 0:\n",
    "            self._balance += amount\n",
    "\n",
    "    def withdraw(self, amount):\n",
    "        if amount < 0:\n",
    "            return\n",
    "        withdraw_total = amount + self._transaction_fee\n",
    "        if withdraw_total <= self._balance:\n",
    "            self._balance -= withdraw_total\n"
   ]
  },
  {
   "cell_type": "markdown",
   "id": "d8d6f5e0",
   "metadata": {},
   "source": [
    "code step by step bank account str method:"
   ]
  },
  {
   "cell_type": "code",
   "execution_count": 6,
   "id": "f6a13a54",
   "metadata": {},
   "outputs": [],
   "source": [
    "def __str__(self):\n",
    "    return f\"{self.name}, ${self.balance:.2f}\"\n"
   ]
  },
  {
   "cell_type": "markdown",
   "id": "cd1d4c02",
   "metadata": {},
   "source": [
    "code step by step factorial function:"
   ]
  },
  {
   "cell_type": "code",
   "execution_count": 4,
   "id": "44e0a7ba",
   "metadata": {},
   "outputs": [],
   "source": [
    "def factorial(n):\n",
    "    if n == 0:\n",
    "        return 1\n",
    "    if n == 1:\n",
    "        return 1\n",
    "    else:\n",
    "        return(n * factorial(n - 1))\n"
   ]
  },
  {
   "cell_type": "markdown",
   "id": "ec028ba1",
   "metadata": {},
   "source": [
    "data lemur problem:"
   ]
  },
  {
   "cell_type": "code",
   "execution_count": 5,
   "id": "9cb9ccfa",
   "metadata": {},
   "outputs": [],
   "source": [
    "factorial(5) # input\n",
    "\n",
    "def factorial(n):\n",
    "  x = 1 # base case\n",
    "  for i in range(1, n+1): # go from 1 to n\n",
    "    x *= i # update answer incrementally\n",
    "  print(x)\n",
    "  return x\n",
    "  "
   ]
  }
 ],
 "metadata": {
  "kernelspec": {
   "display_name": "base",
   "language": "python",
   "name": "python3"
  },
  "language_info": {
   "codemirror_mode": {
    "name": "ipython",
    "version": 3
   },
   "file_extension": ".py",
   "mimetype": "text/x-python",
   "name": "python",
   "nbconvert_exporter": "python",
   "pygments_lexer": "ipython3",
   "version": "3.13.5"
  }
 },
 "nbformat": 4,
 "nbformat_minor": 5
}
